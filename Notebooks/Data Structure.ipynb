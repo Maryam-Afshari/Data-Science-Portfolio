{
 "cells": [
  {
   "cell_type": "markdown",
   "metadata": {},
   "source": [
    "#### TODO : \n",
    "Implement the convert(amount, currency) function. The first parameter is a tuple of two elements: a float and a currency (e.g. (100, \"USD\")). The second parameter is a String, the currency you want to convert the amount into.\n"
   ]
  },
  {
   "cell_type": "code",
   "execution_count": 5,
   "metadata": {},
   "outputs": [],
   "source": [
    "RATES = {\"USDEUR\":0.85, \"GBPEUR\":1.13, \"CHFEUR\":0.86, \"EURGBP\":0.885} \n",
    "\n",
    "def convert(amount, currency):\n",
    "    key = amount[1]+ currency\n",
    "    if key in RATES:\n",
    "        R = RATES[key]\n",
    "        return round(amount[0]*R)\n",
    "    return None"
   ]
  },
  {
   "cell_type": "code",
   "execution_count": 6,
   "metadata": {},
   "outputs": [
    {
     "data": {
      "text/plain": [
       "85"
      ]
     },
     "execution_count": 6,
     "metadata": {},
     "output_type": "execute_result"
    }
   ],
   "source": [
    "convert((100,\"USD\"),\"EUR\")"
   ]
  },
  {
   "cell_type": "code",
   "execution_count": 7,
   "metadata": {},
   "outputs": [],
   "source": [
    "RATES = {\n",
    "    \"USDEUR\": 0.85,\n",
    "    \"GBPEUR\": 1.13,\n",
    "    \"CHFEUR\": 0.86,\n",
    "    \"EURGBP\": 0.885\n",
    "}\n",
    "\n",
    "def convert(amount, currency):\n",
    "    # 100 EUR to USD IS 100 * 0.85\n",
    "    for key, value in RATES.items():\n",
    "        if amount[1] == key[0:3] and currency == \"EUR\":\n",
    "            return round(value * amount[0])\n",
    "        if  amount[1] == key[3:6] and currency == key[0:3]:\n",
    "            return round(amount[0] / value)"
   ]
  },
  {
   "cell_type": "code",
   "execution_count": 9,
   "metadata": {},
   "outputs": [
    {
     "data": {
      "text/plain": [
       "150"
      ]
     },
     "execution_count": 9,
     "metadata": {},
     "output_type": "execute_result"
    }
   ],
   "source": [
    "convert((170,\"EUR\"),\"GBP\")"
   ]
  },
  {
   "cell_type": "code",
   "execution_count": null,
   "metadata": {},
   "outputs": [],
   "source": []
  }
 ],
 "metadata": {
  "kernelspec": {
   "display_name": "Python 3",
   "language": "python",
   "name": "python3"
  },
  "language_info": {
   "codemirror_mode": {
    "name": "ipython",
    "version": 3
   },
   "file_extension": ".py",
   "mimetype": "text/x-python",
   "name": "python",
   "nbconvert_exporter": "python",
   "pygments_lexer": "ipython3",
   "version": "3.7.7"
  }
 },
 "nbformat": 4,
 "nbformat_minor": 4
}
